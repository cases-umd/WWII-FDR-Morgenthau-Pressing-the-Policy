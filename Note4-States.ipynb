{
 "cells": [
  {
   "cell_type": "markdown",
   "metadata": {},
   "source": [
    "# References to U.S. States \n",
    "by LC, KM, MV Group The Metadaters \n",
    "\n",
    "## Data Overview, Telling Our Story\n",
    "During his time as Secretary of the Treasury, Morgenthau gave hundreds of press conferences, which were transcribed and recorded on microfilm. Our interest in social issues led us to consider countries but states gave us a continuous pathway to create potentially meaningful collaborations with state archives about World War II legacies. Our specific goal is to examine the index cards for subjects explicitly concerning U.S. states, with the objective of making Morgenthau’s state-related content accessible for users interested in **state history**. The resulting data models should enable users to find the mention of the state they want press conference transcript content on, see at a glance what subjects were discussed in a given transcript, and tie that information to dates. That is a subject-focused approach to navigating the hundreds of index cards, in the hopes of providing easy access for users looking for state-related information."
   ]
  },
  {
   "cell_type": "markdown",
   "metadata": {},
   "source": [
    "## Dataset Exploration related to Scale and Levels within Collection \n",
    "The index cards (Series 1) examined in this project serve to direct users to specific transcripts (Series 2) according to the topics they contain. The cards are organized alphabetically by subject. We have broken down a record example (**Figure 1**) into the following components:\n",
    "1. **Header** - the subject being searched for by the user\n",
    "2. **Subheader** - not always present, gives additional specificity concerning the header\n",
    "3. **Volume** - the number of the volume where the transcription can be found\n",
    "4. **Body** - May describe the content where the header subject is found, or may redirect user to another header that includes the subject\n",
    "5. **Date** - the date, formatted month/day/year, of the transcribed press conference\n",
    "6. **Page** - the page range where the content can be found\n",
    "\n",
    "Not pictured on the index card is the final component of our record anatomy, which is a feature of the format through which we interacted with the index cards: the page number within the PDF where the index card can be found. \n",
    "\n",
    "**Figure 1**: Anatomy of a record within the dataset.\n",
    "\n",
    "<img src=\"MetadatersFIG1.png\" alt=\"Record anatomy\" title=\"FIGURE 1\">\n",
    "\n",
    "Using David Weintrop’s model of computational thinking shown in **Figure 2** (Marciano et al. 2019) our contribution involves **Data Practices** (Collecting data, Manipulating data, Visualizing data) and **Computational Problem Solving Practices** (Preparing problems for computational solutions, and Choosing effective computational tools).\n",
    "\n",
    "**Figure 2**: Computational thinking (CT) taxonomy.\n",
    "\n",
    "<img src=\"MetadatersFIG2.png\" alt=\"CT taxonomy\" title=\"FIGURE 2\">"
   ]
  },
  {
   "cell_type": "markdown",
   "metadata": {},
   "source": [
    "## Data Cleaning and Preparation\n",
    "Since two of us carry out transcription activities in our daily work we drew on that experience to make our close encounter with the dataset somewhat painless, and established the specific format above to record our transcriptions (a targeted rather than open analysis). We divided the 48 states between the three of us alphabetically (A-L, M-N, and O-W not including Alaska and Hawaii which at the time of the collection’s original development were not considered to be states) to create an Excel dataset line by line. \n",
    "\n",
    "## Modeling: Computation and Transformation\n",
    "Group members searched for their states in relevant index cards and logged each mention in the six-component format established above, in a shared spreadsheet. Because online scripts and other technologies can have a difficult time reading content such as that of the index cards, we did not mind going through the index cards to find mentions of each of our assigned states. Once we had compiled the metadata in the same place, creating the visualization was easier.\n",
    "\n",
    "## Modeling: Visualization\n",
    "Our group chose to analyze in the Morgenthau collection mentions of individual states and how they’re each referenced and/or regulated. We transformed our data into a map visualization (**Figure 3**) as Group MEM-ory did, in [Canva](https://www.canva.com/design/DAFPoGjUIqU/Uw4A8aceXLitei8l2NhKRw/edit) based on the number of mentions in the index cards. Ready for an all-ages museum display, it allows one to visualize the geographic breadth and gaps in Morgenthau’s mentions of the states. Across the entirety of the collection (Series 1), there are 94 mentions of the then-48 states. 39.6% of states were mentioned in some capacity (that includes **cities** within those states referenced independently of the state) and the other 60.4% were not mentioned in any capacity (**Figure 4**). The primary trend of the state data is they mostly relate to finance of either the state or how the state was financially connected to the government at the federal level. Two common threads among many lines of component metadata from the index cards are “See Internal Revenue” or “See Financing, Government” which were written in the subheader or body text of the card.\r\n",
    "\r\n",
    "**Figure 3**. Morgenthau's mentions of the states.\r\n",
    "**Figure 4**. Percentage of states that Morgenthau does or does not mention in his conferences. \r\n",
    "\r\n",
    "<img src=\"MetadatersFIG3.png\" alt=\"mentions states\" title=\"FIGURE 3\">\r\n",
    "<img src=\"MetadatersFIG4.png\" alt=\"mentions percentages\" title=\"FIGURE 4\">\r\n",
    "\r\n",
    "The states were referenced regarding taxes, business trips, banks, and mining, among other topics. California, the state with the most mentions at 17, referenced the Federal Reserve, banking, politics, and gold. Besides finance, travel of political figures is a mention that repeats in several states. Many of the Midwestern states are unmentioned, as well as several Southern states and the New England area. Six states have one mention: Oregon, Utah, Wisconsin, Tennessee, North Carolina, and Maryland. Two of the state or city references indicate where Morgenthau traveled on his own, or with his wife, on vacation or a business trip. He and Mrs. Elinor Morgenthau traveled to Arizona and Sea Island, Georgia. Kentucky and California both have references regarding gold, the storage of gold and silver, and finances associated with gold. Additionally, liquor is referenced in relation to Illinois (the Chicago area) six times and for five of the six entries, the subheader indicates that action was taken for tax evasion related to the liquor industry."
   ]
  },
  {
   "cell_type": "markdown",
   "metadata": {},
   "source": [
    "## Ethics and Values Considerations\n",
    "The [Society of American Archivists Core Values Statement and Code of Ethics](https://www2.archivists.org/statements/saa-core-values-statement-and-code-of-ethics) states that archivists should strive to “expand access and usage opportunities for users, and potential users, of archival records.” By centering our contribution around mentions of U.S. states, we help archivists increase the accessibility of the Morgenthau press conference records to users with specific interests who may otherwise be discouraged by the volume of data that must be sifted through.\n",
    "\n",
    "## Summary and Suggestions\n",
    "It is the job of an archivist to make materials like Morgenthau’s more accessible to the public. Our project has done such work for those looking to research the states' role during Morgenthau’s years in the Administration. When transcribing the metadata, archivists’ task is to directly translate that information into a usable system, regardless of what is said. Being transparent that the work of transcribing was done by human workers also lets the public know that people are responsible for the information being presented and not a software program, keeping us accountable for any mistakes that might be found."
   ]
  },
  {
   "cell_type": "code",
   "execution_count": null,
   "metadata": {},
   "outputs": [],
   "source": []
  }
 ],
 "metadata": {
  "kernelspec": {
   "display_name": "Python 3 (ipykernel)",
   "language": "python",
   "name": "python3"
  },
  "language_info": {
   "codemirror_mode": {
    "name": "ipython",
    "version": 3
   },
   "file_extension": ".py",
   "mimetype": "text/x-python",
   "name": "python",
   "nbconvert_exporter": "python",
   "pygments_lexer": "ipython3",
   "version": "3.11.4"
  }
 },
 "nbformat": 4,
 "nbformat_minor": 4
}
