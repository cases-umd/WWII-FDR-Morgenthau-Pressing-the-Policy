{
 "cells": [
  {
   "cell_type": "markdown",
   "metadata": {},
   "source": [
    "# Modeling Morgenthau: U.S. Gold Relations \n",
    "by MR1, MR2, ES Group MEM-ory \n",
    "\n",
    "## Data Overview, Telling Our Story\n",
    "Throughout the 1930s and into the mid-1940s the United States and many countries around the world faced economic hardships. Morgenthau’s press conference oeuvre explores the importance of gold in terms of trade, economy, and supporting the war effort, both in the United States and throughout the world. This project focused on the topic of gold in the Series 1 index and the correlating Series 2 press conference transcripts. After careful analysis of the data, key content patterns emerged: Gold was actively being traded between the United States and several other foreign countries between the years 1934-1941. It became clear furthermore that the United States was trading with other countries to maintain the gold standard.\n",
    "\n",
    "In the United States, the Great Depression began in 1929 and continued to get worse through early 1933, with gross domestic product (GDP) falling 30 percent. That economic downturn caused the U.S. Treasury Department and the Federal Reserve to make changes including raising interest rates and lowering the money supply. There are economists who believe that the Federal Reserve allowed a decline in the American money supply to preserve the gold standard (Edwards 2017, Holmes 2021). The **gold standard** allows each country to set the value of its currency in terms of gold. With the focus on the gold standard, the instability of trade gave rise to international gold flows (Richardson, Komai, and Gou 2013). When the U.S. economy began to decrease dramatically, a new trend of gold leaving other countries for the United States began. That took place because the deflation of the U.S. Dollar made American goods particularly desirable for foreigners, and low income among Americans reduced the demand for foreign products. Between 1933 and 1937, the American money supply increased nearly 42 percent. The growth came largely from a significant gold inflow to the United States, partially caused by the rising political tensions in Europe. The official United States view on and use of gold shifted greatly during the 1930s. The Gold Reserve Act of 1934 marked a change on policy and the trade of gold, among other things, transferring ownership of all monetary gold in the United States to the U.S. Treasury and returning to the individuals and institutions a payment of $35 an ounce (Cooper 1982: 21). Political cartoonist **Kendall Vintroux** here depicts President Roosevelt freeing the every-dollar to go “knockout” the Depression victoriously. Another view on the 1934 Act by the **Federal Reserve Bank of St. Louis** shows the goods trade balance (the net sum of a country’s exports and imports of goods) and the U.S. gold reserves over time: between 1932 and 1948 the latter “quadrupled” from around 5,000 metric tons to over 20,000 metric tons. (MR1)\n",
    "\n",
    "**Figure 1**: “Now for the Knockout Round” by Kendall Vintroux ([source](https://historynewsnetwork.org/blog/140994)).\n",
    "**Figure 2**: “U.S. Gold Reserves and U.S. Goods Trade Balance: 1878-2018” (2020) by Yi Wen and Brian Reinbold for the Federal Reserve Bank of St. Louis ([source](https://www.stlouisfed.org/publications/regional-economist/first-quarter-2020/changing-relationship-trade-americas-gold-reserves)).\n",
    "\n",
    "<img src=\"MEMoryFIG1.jpeg\" alt=\"Kendall Vintroux political cartoon\" title=\"FIGURE 1\">\n",
    "<img src=\"MEMoryFIG2.jpg\" alt=\"gold reserves quadrupled\" title=\"FIGURE 2\">"
   ]
  },
  {
   "cell_type": "markdown",
   "metadata": {},
   "source": [
    "## Dataset Exploration related to Scale and Levels within Collection \n",
    "Morgenthau’s press conferences on the international gold trade provide insights on the actions of the U.S. Treasury Department during one of the most economically stressful eras in United States and world history. In some of them, Morgenthau spoke of the importance of gold in the overall economy of the U.S., trade relations, and political relations with other countries: topical examples include the continuing trade of gold with Russia in this timeframe, the frequent talk of raising the gold rate, and the recurring idea of an “international currency” (MR1).\n",
    "\n",
    "After our initial analysis of the Series 1 index cards from the Morgenthau Press Conferences, we selected ‘gold’ as our topic of interest to pursue further (MR2). The scale of the collection is large, so we selected cards 319 to 382. We then divided this subset of cards into three sections for each group member to clean and analyze. (ES)"
   ]
  },
  {
   "cell_type": "markdown",
   "metadata": {},
   "source": [
    "## Data Cleaning and Preparation\n",
    "Our objective was to discover patterns within the gold dataset to better interpret the record. Manipulating data is the process of changing it to enhance readability and usability to achieve that goal. Each of us first saved our subset of cards into separate PDF files. We began data cleaning by converting the PDF to plain text: uploading the files into [OCRSpace](https://ocr.space/) and extracting the text using OCR Engine5, which is meant for low contrast images. The result was a rough transcription of the text, which still needed to be cleaned and edited. At this point, we copied the transcription into an Excel file, and, cross-referencing the original microfilm scan, made sure the new transcription matched (see Figure 3). With the finished transcription, we could then upload into [OpenRefine](https://openrefine.org/) successfully to view or manipulate the data in different ways. (ES)\n",
    "\n",
    "**Figure 3**: Transcription of Series 1 Index Cards Sample in Excel format.\n",
    "<img src=\"MEMoryFIG3.png\" alt=\"Excel transcriptions\" title=\"FIGURE 3\">\n",
    "\n",
    "## Modeling: Computation and Transformation\n",
    "One pattern that became obvious was the continued mention of trading gold with other countries. Based on the frequencies we saw independently, it became clear that the United States was regularly selling and buying **gold from other countries** during the timeperiod of the index cards. After reading the full press transcripts (Series 2) connected to the index cards (Series 1), we learned that much of the conversations about gold related to the United States’ use of the gold standard and the continued practice of keeping enough gold in the reserves to maintain it at the time. Other countries were doing the same, which resulted in a circle of buying and selling to one another. So we manipulated the data to include only the ‘gold’ index cards that mentioned a foreign country. That smaller selection of data was then organized chronologically and by location. Our manipulations let us determine that our data would best be visualized through a **map and a timeline**. (MR2)\n",
    "\n",
    "## Modeling: Visualization\n",
    "Using the transcribed index cards and press conferences, we noted all of the countries that Morgenthau described gold trade relations with from 1934-1941. We then co-created an Excel file with that country data and uploaded it to [Tableau Public](https://public.tableau.com/app/discover). With Tableau we created a map to highlight the specific countries described in our dataset from the Excel file (see **Figure 4**). Given the amount of time covered in the press conferences in our dataset, we created a timeline in [Canva](https://www.canva.com/) to highlight trade relation(ships). In order to do so, we used our transcribed data from the index cards and press conferences to identify major events and trades (see **Figure 5**). Therefore, the timeline is limited to the data in our dataset and may exclude significant events that were not specifically discussed (by Morgenthau) in the dataset. (ES)\n",
    "\n",
    "Figure 4: Map of countries in the selected dataset with which the U.S. had gold trade relations. Visualization created using Tableau.\n",
    "Figure 5: Timeline of events and dates in the selected dataset to tell the gold trade story. Visualization created using Canva.\n",
    "<img src=\"MEMoryFIG4.png\" alt=\"Tableau map\" title=\"FIGURE 4\">\n",
    "<img src=\"MEMoryFIG5.png\" alt=\"Canva timeline\" title=\"FIGURE 5\">"
   ]
  },
  {
   "cell_type": "markdown",
   "metadata": {},
   "source": [
    "## Ethics and Values Considerations\n",
    "Taking ethics and values considerations into account is important while reviewing this topical information. The Morgenthau papers do not hold **all** of the information necessary to complete the story, and some of the information can be biased for one reason or another. Other ethical concerns include the possibility that some of the gold mentioned was sourced in unethical ways, in terms of mining or the looting or theft of gold from different ethnic groups throughout history. It is also important to note that during the timeframe of World War II some of the gold that was traded monetarily, went to support the war effort in other countries. Third though there is not a specific example that comes to mind within our dataset, it is important to note there may be certain words or terms used within this collection that could be seen as potentially harmful or outdated. When considering the actual collection/archive there are other ethical issues that can come into play. Some of those issues include, but are not limited to, the values of the institution and the relationships between archivists, records users, employers, and the general public. Finally we used various software programs to visualize the data and tell our dataset story effectively. (MR1)\n",
    "\n",
    "## Summary and Suggestions\n",
    "After deciding on gold as our topic of interest, our group noticed patterns surrounding the movement of gold between countries, and our dataset followed a loose timeline between the 1930s and 1940s. To add general world context **outside** of the dataset, we researched gold trade in the U.S. at this time to further expand our story. We used various software and tools to manipulate and visualize the data, first transcribing the text and then creating visuals like a map and timeline to show the data in a different way.\n",
    "\n",
    "There is still work to be done when using the dataset to tell a story. Our visualizations only include the information about gold trade in a specific dataset, i.e. what was discussed in the Morgenthau press conferences. Further exploration could be done with formal government documents or other archives to research gold relations with other countries, U.S. trade relations with silver and other precious metals, and the impact those had on the economy apart from gold. (ES)"
   ]
  },
  {
   "cell_type": "markdown",
   "metadata": {},
   "source": [
    "## References\n",
    "- Cooper, R.N. (1982). The gold standard: Historical facts and future prospects. *Brookings Papers on Economic Activity* 1. https://www.brookings.edu/articles/the-gold-standard-historical-facts-and-future-prospects/ \n",
    "- Edwards, S. (2017, March). Gold, the Brains Trust, and Roosevelt. *History of Political Economy* 49(1): 1-30. https://doi.org/10.1215/00182702-3777134\n",
    "- Holmes, F. (2021, April 19). Gold, World War II, and Operation Fish. Forbes. https://www.forbes.com/sites/greatspeculations/2018/06/05/gold-world-war-ii-and-operation-fish/ \n",
    "- Richardson G., Komai, A., & Gou, M. (2013). “Roosevelt’s Gold Program.” In Federal Reserve History. https://www.federalreservehistory.org/essays/roosevelts-gold-program "
   ]
  },
  {
   "cell_type": "code",
   "execution_count": null,
   "metadata": {},
   "outputs": [],
   "source": []
  }
 ],
 "metadata": {
  "kernelspec": {
   "display_name": "Python 3 (ipykernel)",
   "language": "python",
   "name": "python3"
  },
  "language_info": {
   "codemirror_mode": {
    "name": "ipython",
    "version": 3
   },
   "file_extension": ".py",
   "mimetype": "text/x-python",
   "name": "python",
   "nbconvert_exporter": "python",
   "pygments_lexer": "ipython3",
   "version": "3.11.4"
  }
 },
 "nbformat": 4,
 "nbformat_minor": 4
}
