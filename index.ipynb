{
 "cells": [
  {
   "cell_type": "markdown",
   "metadata": {
    "jp-MarkdownHeadingCollapsed": true
   },
   "source": [
    "## Morgenthau Pressing the Policy and Data Decomposition with Computational Storytelling\n",
    "* Contributors: Sarah A. Buchanan; 30 Graduate Students in 2022FA course.\n",
    "* Partner: Kirsten Carter, Supervisory Archivist, Franklin D. Roosevelt Presidential Library & Museum \n",
    "* Source Available: https://github.com/cases-umd/WWII-FDR-Morgenthau-Pressing-the-Policy\n",
    "* License: [Creative Commons - Attribute 4.0 Intl](https://creativecommons.org/licenses/by/4.0/). [Esri Master Agreement Products and Services](https://www.esri.com/content/dam/esrisites/en-us/media/legal/ma-full/ma-full.pdf); [OpenRefine BSD 3-Clause](https://github.com/OpenRefine/OpenRefine/blob/master/LICENSE.txt).\n",
    "* [Lesson Plan for Instructors](./lesson-plan-Pressing.ipynb)\n",
    "\n",
    "## Introduction\n",
    "Students complete a Data Modeling assignment in Data & Records Management 9492, part of the Archival Studies MLIS emphasis at Missouri’s iSchool. Working in groups of three, students are provided with a data dictionary and dataset from an archival agency, and they engage in manipulation and visualization of the data to show patterns, identify or reconstruct decisions, and construct future uses of the records. Classmates often take and share notes in a Google Doc. A Guest Lecture was generously given by PN member Kirsten Carter, Supervisory Archivist at the FDR Presidential Library & Museum, a month out from the assignment due date. There, Carter detailed the [Morgenthau Press Conferences](http://www.fdrlibrary.marist.edu/archives/collections/franklin/index.php?p=collections/findingaid&id=536) collection, contextualizing for us its images of microfilm rolls photographed from the original bound volumes, both created in the late 1940s. [Henry Morgenthau Jr. (1891-1967)](https://www.fdrlibrary.org/morgenthau) served in the Cabinets of the Roosevelt and Truman Administrations (until 1945). We also visited the [Morgenthau Diary Data Portal](https://www.fdrlibrary.org/datahub) – a product of collaborative ML treatments with the [Morgenthau Diaries](http://www.fdrlibrary.marist.edu/archives/collections/franklin/index.php?p=collections/findingaid&id=535) ([Greenberg and Marciano 2020](https://ai-collaboratory.net/projects/ml-fdr/webinar/), [Randby and Marciano 2020](https://ai-collaboratory.net/cas/cas-workshops/ieee-big-data-2020-5th-cas-workshop/)), and the [Selected Digitized Documents Related to the Holocaust and Refugees collection](http://www.fdrlibrary.marist.edu/archives/collections/franklin/index.php?p=collections/findingaid&id=505) ([Carter, Gondek, Underwood, Randby, and Marciano 2022](https://doi.org/10.1007/s00146-021-01368-w)). The 18-21 Sept 2022 premiere on PBS of “[The U.S. and the Holocaust](https://www.pbs.org/kenburns/us-and-the-holocaust/)” made timely enhancements to the subsequent archival analyses. \n",
    "The student submissions are structured as a Computational Story in CASES – including the objectives, visualizations, and ethical considerations enumerated in each Notebook. The below sections relate to the Data Modeling assignment itself, first in the context of TALENT Network ([project website](https://ai-collaboratory.net/projects/talent-network/)) educator (EN) and practitioner (PN) network collaborations, and more broadly that of graduate archival education and archival science pedagogy.\n",
    "The Notebooks include instructor contributions and student initials for some combined items. \n",
    "\n",
    "### Further Information\n",
    "Learn more about Archival Studies at Missouri’s iSchool at https://education.missouri.edu/degree/archival-studies-mlis/\n",
    "\n",
    "## Objectives\n",
    "The main objective of the Data Modeling assignment, which is one of the course goals in IS_LT 9492, is to: “Develop skills to mediate among stakeholders (records creators, users, and IT staff) over the records lifecycle to ensure perpetual (tiered) access to analog and digital formats.” \n",
    "The objective also aligns with the current 2016 SAA GPAS curriculum components, including but not limited to: **(1)** Knowledge of archival material and functions, (c) Arrangement and Description, and (e) Reference and Access; and **(2)** Knowledge of the profession, (c) Ethics and values.\n",
    "\n",
    "## Learning Goals\n",
    "* Computational Practices:\n",
    " * Data Practice 3 – Manipulating Data\n",
    " * Data Practice 5 – Visualizing Data\n",
    "* Archival Studies Guidelines:\n",
    " * Core Archival Knowledge – Archival Material and Functions – Arrangement and Description\n",
    " * Core Archival Knowledge – Archival Material and Functions – Reference and Access\n",
    " * Knowledge of the Profession – Ethics and Values"
   ]
  },
  {
   "cell_type": "markdown",
   "metadata": {},
   "source": [
    "# Software and Tools\n",
    "Students are asked to download one tool – [OpenRefine](http://openrefine.org/) – and use it to import the provided dataset (portion). Doing so will meet the goal of DP 3, Manipulation.\n",
    "\n",
    "Student groups are encouraged to use additional resources to meet the goal of DP 5, Visualization, some examples of which include [Dataviz.tools](https://dataviz.tools/), [Data Biographies](http://idatassist.com/data-biographies-how-to-get-to-know-your-data/), [Visualization Tools](https://catablogweb.wordpress.com/2021/07/07/recording-available-telling-stories-with-library-data-visualization-projects-and-tools/) presented at ARLIS/NA 2021, TALENT Network member Dr. Melanie Walsh’s [Introduction to Cultural Analytics & Python](https://melaniewalsh.github.io/Intro-Cultural-Analytics/welcome.html) (2021), and the [Usage case studies](https://jupyter4edu.github.io/jupyter-edu-book/case-studies.html) in Teaching and Learning with Jupyter (2019)\n",
    "\n",
    "For OpenRefine:\n",
    "\n",
    "1. Visit the website https://openrefine.org/\n",
    "2. View the video tutorials. \n",
    "3. Download the latest stable release per the instructions at https://openrefine.org/download.html \n"
   ]
  },
  {
   "cell_type": "markdown",
   "metadata": {},
   "source": [
    "# Acquiring or Accessing the Data\n",
    "The members of the TALENT Educator Network (EN) apply their expertise to expand the library of CASES Projects and build the future community of (digital) archival and library educators and practitioners. The FDR Presidential Library & Museum digitizes and provides public access to the Morgenthau Press Conferences transcripts and finding aid on FRANKLIN, its Archon-based web interface (see Gondek’s 2021 presentation “[NARA and FDR Library Holocaust Resources](https://www.youtube.com/watch?v=yzNhUZa1uXY&list=PLnYXL2y0SAPEzXss8UtGJFvCZsdhu0QBc&index=15&t=1240s)”). Dr. Buchanan's collaboration expands earlier work in the Piloting Network by the UMD Core Team, and is made possible by the Institute of Museum and Library Services, IMLS grant RE-252287-OLS-22.\n"
   ]
  },
  {
   "cell_type": "markdown",
   "metadata": {},
   "source": [
    "# Notebooks\n",
    "1. [Looking Into Liquor: Anti-Bootlegging Operational Efficiency and Liquor Excise Tax Revenues](Note1-Liquor.ipynb)\n",
    "2. [A Computational Story of Crime through the Morgenthau Press Conference Collection](Note2-Crime.ipynb)\n",
    "3. [On the Subject of Great Britain in World War II](Note3-GreatBritain.ipynb)\n",
    "4. [References to U.S. States](Note4-States.ipynb)\n",
    "5. [An Analysis of the Subject Indexing in 1936 by Treasury Librarian Isabella Diamond: Financial Matters in Letters C to F](Note5-Diamond.ipynb)\n",
    "6. [Year One: 1933 Acting Secretary of the Treasury](Note6-1933.ipynb)\n",
    "7. [Data Modeling Volume 25 of the Morgenthau Press Conferences: late 1943 to mid-1944](Note7-Volume25.ipynb)\n",
    "8. [Modeling Morgenthau: U.S. Gold Relations](Note8-Gold.ipynb)\n",
    "9. [From the Gold Standard to Bretton Woods: Shifts in International Monetary Policies of the United States](Note9-MonetaryShifts.ipynb)\n",
    "10. [Henry Morgenthau Jr., The International Monetary Fund, & Sentiments](Note10-MonetarySentiments.ipynb)"
   ]
  },
  {
   "cell_type": "code",
   "execution_count": null,
   "metadata": {},
   "outputs": [],
   "source": []
  }
 ],
 "metadata": {
  "cases_info": {
   "computational_practices": [
    "cas:dp_collecting_data",
    "cas:dp_creating_data"
   ]
  },
  "kernelspec": {
   "display_name": "Python 3 (ipykernel)",
   "language": "python",
   "name": "python3"
  },
  "language_info": {
   "codemirror_mode": {
    "name": "ipython",
    "version": 3
   },
   "file_extension": ".py",
   "mimetype": "text/x-python",
   "name": "python",
   "nbconvert_exporter": "python",
   "pygments_lexer": "ipython3",
   "version": "3.11.4"
  }
 },
 "nbformat": 4,
 "nbformat_minor": 4
}
