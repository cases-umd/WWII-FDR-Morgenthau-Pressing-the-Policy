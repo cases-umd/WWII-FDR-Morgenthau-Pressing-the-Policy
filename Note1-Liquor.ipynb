{
 "cells": [
  {
   "cell_type": "markdown",
   "metadata": {},
   "source": [
    "# Looking Into Liquor: Anti-Bootlegging Operational Efficiency and Liquor Excise Tax Revenues \n",
    "by MF, CG, JN Group Data Archivist Task Associates (D.A.T.A.) \n",
    "\n",
    "## Data Overview, Telling Our Story\n",
    "The collection of the press conferences of Secretary of the Treasury Henry Morgenthau Jr. from 1933-1945 are housed at the Franklin D. Roosevelt Presidential Library and Museum. The press conferences cover subjects ranging from New Deal monetary policy and war loan drives to refugee issues and post-war planning, totaling 15,000 pages of transcripts. The collection is divided into two series. Series 2 includes the 27 volumes of transcripts from November 15, 1933 to July 23, 1945. Series 1 includes 2725 index cards alphabetically arranged by subject. Of the seven sections, six contain 400 cards and the last section contains 325 cards. Each index card includes the press conference subject (in the upper left corner) along with the date of the press conference and the volume (on the right side as “book” followed by a Roman numeral) and page number of the press conference transcript. A summary of volume context relating to the subject is just below the subject. The date of the press conference appears in various places on the card: sometimes it is after the summary of volume context, and other times it is below the volume and page number. There are occasional cross-references indicated by the word “see”.\n",
    "\n",
    "Our computational story focuses on the 32 index cards referring to liquor, which we examined for **numerical statements** regarding monetary amounts gained by either taxation or seizure of liquor. Morgenthau’s information was then divided by year and examined in the U.S. Government Receipts for excise taxes to find percentages. Most of the press conferences referring to liquor were in the months and early years following the end of Prohibition in December, 1933. The goal of this research was to discover the impact of liquor on federal revenues in the time of Secretary Henry Morgenthau Jr. followed by an analysis of Morgenthau’s anti-bootlegging operations in New York or Chicago. \n",
    "\n",
    "After all the data referring to liquor were isolated, the records were transcribed into .txt format to better interact with the OpenRefine software for manipulation. Customized text facets were utilized to determine the most frequent words and their variations, which revealed the high frequency of **bootlegging** and **tax / tariff** in the dataset. Why was bootlegging was so frequently mentioned, given Prohibition had just ended, and is there a connection to the frequent mentions of taxes on liquor? One part of this study examined the quantity of anti-bootlegging efforts in New York and Chicago regarding tax evasion, while another calculated the reported figures from the data to federal excise tax revenues. \n",
    "\n",
    "The results revealed that in just one month, Morgenthau’s anti-bootlegging operations had uncovered over 10,000 more illegal still locations in New York and Chicago alone. Likewise, the national excise tax amounted up to 45% of all federal revenue at its highest, with hard liquor amounting to an estimated $63 million (or 4.6%) of the whole. Both are visualized, in a matrix plot for the illegal locations per date and a column graph revealing the percentile of excise and liquor taxes per year.\n",
    "\n",
    "The dataset failed to include the level of specificity for federal tax revenues and brought Morgenthau’s passion for the anti-bootlegging efforts under scrutiny. It is theorized his enthusiasm outran his supply of information in press conferences. Furthermore, this study examined liquor specifically, whereas a more comprehensive examination could be accomplished with all beverages containing alcohol. America’s economic turn leading into WWII was also recognized as a confounding factor in the data results. (MF, JN) "
   ]
  },
  {
   "cell_type": "markdown",
   "metadata": {},
   "source": [
    "## Dataset Exploration related to Scale and Levels within Collection \n",
    "Data exploration began with an initial review of Series 1. Our observations included the fact that Prohibition ended in 1933 and that it coincided with the commencement of the press conferences, which piqued our interest in the immediate impact that the end of Prohibition had on liquor and taxes. We chose to focus our narrative on the 32 index cards referring to “liquor”. Multiple attempts were made to export the data starting from PDF format to an Excel sheet or a .txt file. However OCR was unsuccessful on the data because of the quality of the scanned documents. As a result, the dataset was transcribed (manually by JN). It was first converted into an Excel file which was imported into OpenRefine, which the group determined was not the best view of the data. The transcribed data were then converted to a .txt file and then finally imported into OpenRefine which was used to clean and manipulate the data. (JN)\n",
    "\n",
    "## Data Cleaning and Preparation \n",
    "Using OpenRefine, we performed common transformations to the cells to trim leading and trailing white spaces, remove blank lines, and we added custom text transformations to remove duplicates. Next, we used customized word facets that revealed the words most commonly used in the dataset. This customized facet ensured that all forms of a word were included (bootleg, bootlegging, etc.). In addition, custom facets helped identify the numeric data in the dataset that were later exported to Excel, further analyzed, and used for visualization. (JN)\n",
    "\n",
    "## Modeling: Computation and Transformation\n",
    "Data manipulation in OpenRefine revealed that the most common words or topics mentioned in the dataset were bootlegging and tax/tariff. Prohibition ended on December 5, 1933, and the press conferences on liquor began in April of 1934. The Treasury Department was not receiving the tax revenue on liquor that was expected with the end of Prohibition and bootlegging was still a significant issue. Some in the Treasury Department suggested lowering the tax on liquor to combat bootlegging and to raise the tax revenue. Morgenthau, however, focused on pursuing the bootleggers. The dataset revealed that Chicago and New York were the initial targeted sites. Roughly 10% of the inspected locations in Chicago were committing tax evasion on liquor and roughly 20% of the locations in New York were cited for tax evasion on liquor. (JN)\n",
    "\n",
    "The archival collection contains the transcripts of hundreds of press conferences. The dataset was examined for numerical statements regarding monetary amounts gained in either taxation or seizure of liquor. Our information was divided according to year and then divided by the amounts of the U.S. Federal Government Receipts for excise taxes to find percentages (The White House, 2022). In **1934**, the first year following Prohibition, Morgenthau reported a total of $*63 million in taxes by liquor alone – accounting for 4.6*% of America’s total excise tax, which made up 45.8% of all taxes. It should be noted that Morgenthau states that tax revenue is below his expectations for hard spirits and liquors, but the comparative beer tax revenue is astonishing. The data for 1936 is unclear, as Morgenthau only details new amounts gained from Canada which amount to a paltry estimated \\$*43 million in excise taxes. This equates to 2.6*% of excise taxes, which corresponds to 41.6% of all taxes in 1936. (MF)\n",
    "\n",
    "In a press conference on November 18, **1943**, the final year that Morgenthau mentioned liquor taxes according to Series 1, the tax rate for liquors had spiked from $$ *2 per gallon to* 6. Morgenthau proposes the benefits of releasing stored liquor reserves – approximately 100 million gallons – to oust the black market with a boom of \\$*600 million dollars in tax revenue. In 1943, this would have corresponded to 14*% of the total excise taxes, which made up 17.1% of all taxes in 1943. (MF)\n",
    "\n",
    "## Modeling: Visualization\n",
    "The data on locations in New York and Chicago that the Roosevelt Administration inspected for bootlegging liquor and not paying taxes were entered into an Excel spreadsheet and then imported into a free open-source tool for visualization called RawGraphs as a CSV file. We chose a matrix plot for visualization of the data in **Figure 1**. The locations are depicted on the horizontal axis and the dates of inspection are noted on the vertical axis. Each box specifies the number of violations found (top number) and the number of locations inspected (bottom number). (JN)\n",
    "\n",
    "As evidenced in the matrix plot, Morgenthau was successful in pursuing bootleggers in New York and Chicago. In one month’s time, the number of locations inspected in Chicago went from 4,000 (11 Feb 1935) to 14,921 (18 March 1935) and the violations went from 423 to 14,921. A similar result was seen in New York where the number of locations inspected in a month went from 1,700 (11 Feb 1935) to 10,000 (18 March 1935) and the number of violations went from 335 to 1,649. Morgenthau was successful in decreasing the amount of bootlegging and increasing the tax revenue on liquor. (JN)\n",
    "\n",
    "In addition, the data of comparative amounts of excise taxes to yearly totals is displayed in **Figure 2** to visualize the quantity of excise taxes and amount gained from reported liquor in the Morgenthau dataset in comparison to the total American tax by the years of 1934, 1936, and 1943. (MF)\n",
    "\r",
    "<img src=\"DATAFIG1.jpg\" alt=\"matrix plot visualization\" title=\"FIGURE 1\">\n",
    "\n",
    "<img src=\"DATAFIG2.png\" alt=\"bar graph visualization\" title=\"FIGURE 2\">"
   ]
  },
  {
   "cell_type": "markdown",
   "metadata": {},
   "source": [
    "## Ethics and Values Considerations\n",
    "One hurdle that arose repeatedly under our observations was the inconsistency (or hesitancy) of Morgenthau to give accurate information in the press conferences. That leads to necessary consideration of the accuracy and ambiguity of the records. A particular concern is the journalism of the 1930s (in comparison to modern practices); in multiple instances Morgenthau demands that his statements be “off the record” and does not have information ‘on him' to supply to the press. While it could reflect our modern demand for information, it also reveals a discretionary element in both the press and the Secretary of the Treasury that is absent in today’s journalism. (MF)\n",
    "\n",
    "As evidenced by these press conferences as well as a 1934 New York Times article about the creation of the Alcohol Task Unit (ATU), Morgenthau minced no words about his desire to dissolve illegal alcohol operations as well as to collect revenue (one could argue lost revenue due to the twelve-plus years of prohibition). In the article, Morgenthau invokes a strong-armed and determined tone, yet this could easily be perceived as full-on scorched-earth. He states that the Treasury is “leaving no stone unturned to stop the flow of untaxed liquor”, that he is proposing to “make every effort to solve the problems \\[concerning intoxicating liquor] inherited from the prohibition era”, and that he “had not the slightest intention of ‘going home’” (New York Times, 1934, p. 19). (CG)\n",
    "\n",
    "Overstepping boundaries is evidenced by a 1937 appellate court case, *Milkint v. Morgenthau*. Members of the ATU, in addition to seizing liquor-making material such as mash, a still, and intoxicating liquor, from a garage-based illegal business, also seized their vehicle. According to the plaintiffs, Morgenthau et al. took the seizure too far, as according to the text of the case, “it is contended on behalf of the plaintiffs that both the seizure of the automobile and the proceeding to forfeit it were unlawful” (*Milkint v. Morgenthau*, 1937). Even though the judges ruled in favor of Morgenthau, saying that the plaintiffs had chances to seek remedies through Congress, one can ponder the ethical consequences of this unnecessary overstep in squashing countrywide bootlegging operations. (CG)\n",
    "\r",
    "There is also, simply, the very ethical nature of alcohol itself, as America was just now freeing itself from the restrictive clutches of prohibition and the temperance movement. Not only was bootlegged liquor against the law, its manufacture was unregulated, meaning more impurities, fillers, and other substances were added, either to aid in cost-cutting measures or to increase the alcohol percentage of the product. Additionally, whereas liquor in general was easier to obtain by minors, bootlegged liquor was *especially* easier than legal. (CG)\n",
    "\n",
    "\n",
    "## Summary and Suggestions \r\n",
    "Despite Morgenthau’s detailed transcripts of all of his press conferences, major gaps exist in the data that did not aid this research effort in clarifying key information. It is obvious that Morgenthau was passionate to combat all efforts of bootlegging immediately following the repeal of Prohibition, but the repeated lack of specificity in his replies insinuates that the Secretary of the Treasury’s enthusiasm may have overstepped his flow of information. The aforementioned pathos in Morgenthau’s rhetoric contrasts with a dearth of specifics and with *Milkint v. Morgenthau*. (MF)\r\n",
    "\r\n",
    "There are a few points of interest and tangents that are worth investigating further concerning the dataset. Various documents were located that could potentially and influentially corroborate Morgenthau Jr.’s testimonies with actual reported figures, including official reports as well as press releases from the U.S. Treasury Department. Detailed reports of quantity, type, and value of alcohol seized by ATU agents, for example, are thoroughly expressed on a year-by-year basis, allowing for trends and patterns to be identified. Is the strong language in the Morgenthau press conferences regarding breaking up bootlegging and collecting revenue consistent with the results found in such documents, or is Morgenthau falling short in his endeavors? Did figures increase, decrease, stay the same over the course of the decade that Morgenthau was treasury secretary? What does this tell us about the overall effectiveness of the ATU? Additionally, such figures could analytically be paired with historical events to help explain outliers or extremes. For instance, did the United States’ swift entry into World War II cause ATU pursuits to decrease due to the countrywide war effort, or did border patrol tighten due to the possibility of a foreign invasion, thereby causing smuggled alcohol seizures to increase? (CG)\r\n",
    "\r\n",
    "It should also be noted that this study examined only subject cards in the dataset under “liquor” and its related terms. “Alcohol”, including beer and other drinks, were excluded from the study. It was revealed in our findings that the excise taxes on beer were supposedly the primary contributor to the economic relief following the end of Prohibition. Furthermore, the historical fact that America’s economy skyrocketed out of the Great Depression in 1939 – joining the efforts of World War II – impacts the data regarding 1943 and its increased liquor tax. (MF)\n"
   ]
  },
  {
   "cell_type": "markdown",
   "metadata": {},
   "source": [
    "## References\n",
    "* The White House. (2022). “Federal Tax Revenue by Source, 1934 - 2018.” Office of Management and Budget. https://www.whitehouse.gov/omb/budget/historical-tables/  \n",
    "* Milkint v. Morgenthau, 92 F. 2d 266 (1937).\n",
    "* New York Times Staff. (1934, August 7). “New Treasury arm hits bootleggers.” *The New York Times*, p. 19. https://www.nytimes.com/1934/08/07/archives/new-treasury-arm-hits-bootleggers-morgenthau-puts-3200-men-into-15.html \n"
   ]
  },
  {
   "cell_type": "code",
   "execution_count": null,
   "metadata": {},
   "outputs": [],
   "source": []
  }
 ],
 "metadata": {
  "kernelspec": {
   "display_name": "Python 3 (ipykernel)",
   "language": "python",
   "name": "python3"
  },
  "language_info": {
   "codemirror_mode": {
    "name": "ipython",
    "version": 3
   },
   "file_extension": ".py",
   "mimetype": "text/x-python",
   "name": "python",
   "nbconvert_exporter": "python",
   "pygments_lexer": "ipython3",
   "version": "3.11.4"
  }
 },
 "nbformat": 4,
 "nbformat_minor": 4
}
